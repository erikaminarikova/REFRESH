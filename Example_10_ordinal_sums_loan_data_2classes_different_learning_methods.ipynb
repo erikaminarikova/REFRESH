{
  "nbformat": 4,
  "nbformat_minor": 0,
  "metadata": {
    "colab": {
      "provenance": [],
      "include_colab_link": true
    },
    "kernelspec": {
      "name": "python3",
      "display_name": "Python 3"
    },
    "language_info": {
      "name": "python"
    }
  },
  "cells": [
    {
      "cell_type": "markdown",
      "metadata": {
        "id": "view-in-github",
        "colab_type": "text"
      },
      "source": [
        "<a href=\"https://colab.research.google.com/github/erikaminarikova/REFRESH/blob/main/Example_10_ordinal_sums_loan_data_2classes_different_learning_methods.ipynb\" target=\"_parent\"><img src=\"https://colab.research.google.com/assets/colab-badge.svg\" alt=\"Open In Colab\"/></a>"
      ]
    },
    {
      "cell_type": "code",
      "source": [
        "!pip install pygad"
      ],
      "metadata": {
        "colab": {
          "base_uri": "https://localhost:8080/"
        },
        "id": "6A055A6Tbcsk",
        "outputId": "bd5ae65f-1734-4c2e-b9e9-da2b2ded20c5"
      },
      "execution_count": 1,
      "outputs": [
        {
          "output_type": "stream",
          "name": "stdout",
          "text": [
            "Collecting pygad\n",
            "  Downloading pygad-3.5.0-py3-none-any.whl.metadata (20 kB)\n",
            "Requirement already satisfied: cloudpickle in /usr/local/lib/python3.12/dist-packages (from pygad) (3.1.1)\n",
            "Requirement already satisfied: matplotlib in /usr/local/lib/python3.12/dist-packages (from pygad) (3.10.0)\n",
            "Requirement already satisfied: numpy in /usr/local/lib/python3.12/dist-packages (from pygad) (2.0.2)\n",
            "Requirement already satisfied: contourpy>=1.0.1 in /usr/local/lib/python3.12/dist-packages (from matplotlib->pygad) (1.3.3)\n",
            "Requirement already satisfied: cycler>=0.10 in /usr/local/lib/python3.12/dist-packages (from matplotlib->pygad) (0.12.1)\n",
            "Requirement already satisfied: fonttools>=4.22.0 in /usr/local/lib/python3.12/dist-packages (from matplotlib->pygad) (4.59.1)\n",
            "Requirement already satisfied: kiwisolver>=1.3.1 in /usr/local/lib/python3.12/dist-packages (from matplotlib->pygad) (1.4.9)\n",
            "Requirement already satisfied: packaging>=20.0 in /usr/local/lib/python3.12/dist-packages (from matplotlib->pygad) (25.0)\n",
            "Requirement already satisfied: pillow>=8 in /usr/local/lib/python3.12/dist-packages (from matplotlib->pygad) (11.3.0)\n",
            "Requirement already satisfied: pyparsing>=2.3.1 in /usr/local/lib/python3.12/dist-packages (from matplotlib->pygad) (3.2.3)\n",
            "Requirement already satisfied: python-dateutil>=2.7 in /usr/local/lib/python3.12/dist-packages (from matplotlib->pygad) (2.9.0.post0)\n",
            "Requirement already satisfied: six>=1.5 in /usr/local/lib/python3.12/dist-packages (from python-dateutil>=2.7->matplotlib->pygad) (1.17.0)\n",
            "Downloading pygad-3.5.0-py3-none-any.whl (89 kB)\n",
            "\u001b[2K   \u001b[90m━━━━━━━━━━━━━━━━━━━━━━━━━━━━━━━━━━━━━━━━\u001b[0m \u001b[32m89.6/89.6 kB\u001b[0m \u001b[31m7.3 MB/s\u001b[0m eta \u001b[36m0:00:00\u001b[0m\n",
            "\u001b[?25hInstalling collected packages: pygad\n",
            "Successfully installed pygad-3.5.0\n"
          ]
        }
      ]
    },
    {
      "cell_type": "code",
      "source": [
        "from google.colab import drive\n",
        "drive.mount('/content/drive')"
      ],
      "metadata": {
        "id": "P4evK5mNYjW8",
        "outputId": "78293ed4-5caf-4814-8128-fa8876edbf53",
        "colab": {
          "base_uri": "https://localhost:8080/"
        }
      },
      "execution_count": 3,
      "outputs": [
        {
          "output_type": "stream",
          "name": "stdout",
          "text": [
            "Mounted at /content/drive\n"
          ]
        }
      ]
    },
    {
      "cell_type": "code",
      "source": [
        "import pygad\n",
        "import numpy as np\n",
        "import pandas as pd\n",
        "import statistics\n",
        "import math\n",
        "import matplotlib.pyplot as plt\n",
        "import matplotlib as mpl\n",
        "from matplotlib import image\n",
        "import seaborn as sns"
      ],
      "metadata": {
        "id": "knKoBfpJXhoj"
      },
      "execution_count": 4,
      "outputs": []
    },
    {
      "cell_type": "code",
      "source": [
        "from sklearn.preprocessing import MinMaxScaler, StandardScaler\n",
        "from scipy import stats\n",
        "import time"
      ],
      "metadata": {
        "id": "hDytwxDZYNzm"
      },
      "execution_count": 5,
      "outputs": []
    },
    {
      "cell_type": "code",
      "source": [
        "from sklearn import metrics\n",
        "from sklearn.metrics import accuracy_score, f1_score, recall_score, precision_score, mean_squared_error"
      ],
      "metadata": {
        "id": "nlUtVAUpkRKs"
      },
      "execution_count": 6,
      "outputs": []
    },
    {
      "cell_type": "code",
      "source": [
        "from sklearn.model_selection import train_test_split\n",
        "import matplotlib.pyplot as plt\n",
        "import numpy as np"
      ],
      "metadata": {
        "id": "nT8U3vJ-bu4m"
      },
      "execution_count": 7,
      "outputs": []
    },
    {
      "cell_type": "code",
      "execution_count": null,
      "metadata": {
        "id": "xZ93O93aGABI"
      },
      "outputs": [],
      "source": [
        "#ordina sums functions\n",
        "\n",
        "# defining the generic functions for individual classes\n",
        "def yes_function(x: float, y: float, a: float, kappa: float, lam: float, gamma: float = 1) -> float:\n",
        "    return 1-max(0.0, (((1-x) ** kappa) + ((1-y) ** kappa) - ((1-a) ** kappa))) ** (1 / kappa)\n",
        "\n",
        "def no_function(x: float, y: float, a: float, kappa: float, lam: float, gamma: float = 1) -> float:\n",
        "        return max(0.0, ((x ** lam) + (y ** lam) - (a ** lam))) ** (1 / lam)\n",
        "\n",
        "def maybe_function(x: float, y: float, a:float, kappa: float, lam: float, gamma: float = 1) -> float:\n",
        "    if gamma == 0:\n",
        "            # r = 0 means we use the geometric mean\n",
        "        return 0\n",
        "    elif gamma < 0:\n",
        "            # r < 0 means we handle cases where x or y are 0\n",
        "        if x == 0 or y == 0:\n",
        "            return 0\n",
        "        else:\n",
        "                value = gamma*1/a*x*y+(1-gamma)*(1-1/(1-a)*(1-x)*(1-y))\n",
        "\n",
        "    else:\n",
        "            value = gamma*1/a*x*y+(1-gamma)*(1-1/(1-a)*(1-x)*(1-y))\n",
        "\n",
        "    return statistics.median([0, 1, value])\n",
        "\n",
        "# defining function for classification: deviding values according thir value to which fuction we use\n",
        "def classification(x: float, y: float, a: float, kappa: float, lam: float, gamma: float) -> float:\n",
        "    if x<a and y<a:\n",
        "        value = no_function(x,y,a,1,lam,1)\n",
        "    elif x>a and y>a:\n",
        "        value = yes_function(x,y,a,kappa,1,1)\n",
        "    else:\n",
        "        value = maybe_function(x,y,a,1,1,gamma)\n",
        "    return round(value,4)"
      ]
    },
    {
      "cell_type": "code",
      "source": [
        "#alg for learning parameters in ordinal sums functions\n",
        "def calculate_param_using_gen_alg(data:[] = []):\n",
        "    #preparing input-output data\n",
        "    df = data\n",
        "    columns=len(df.columns)\n",
        "\n",
        "    def fitness_func(ga_instance, solution, solution_idx):\n",
        "        param = np.array(solution)\n",
        "        df['value']=df.apply(lambda row: abs(row[0]-param[4]), axis =1)\n",
        "        # parameters for attributes\n",
        "        i=5\n",
        "        j=0\n",
        "        while j < columns-2:\n",
        "            df['value']=df.apply(lambda row: classification(row['value'], abs(row[j+1]-param[i]), param[0], param[1], param[2], param[3]),\n",
        "                                                            axis = 1)\n",
        "            i += 1\n",
        "            j += 1\n",
        "        df['error']=df.apply(lambda row: math.exp2(np.abs(row['value'] - row['target']))/len(df), axis=1)\n",
        "        fitness1 = 1/math.sqrt(sum(df['error']))\n",
        "        df['calc_value_class'] = df.apply(lambda row: 0 if (row['value']<0.5) else 1, axis=1)\n",
        "        df['target'] = df.apply(lambda row: 0 if (row['target']<0.5) else 1, axis=1)\n",
        "        fitness2 = accuracy_score(df[['calc_value_class']].values, df[['target']].values)\n",
        "        fitness = fitness1 + fitness2\n",
        "        return fitness\n",
        "\n",
        "    fitness_function = fitness_func\n",
        "\n",
        "    num_generations = 60\n",
        "    num_parents_mating = 12\n",
        "\n",
        "    sol_per_pop = 24\n",
        "    num_genes = 12 #number of learnt (tuned) parameters\n",
        "\n",
        "    init_range_low = 0\n",
        "    init_range_high = 1\n",
        "\n",
        "    parent_selection_type = \"sss\"\n",
        "    keep_parents = 2\n",
        "\n",
        "    crossover_type = \"single_point\"\n",
        "\n",
        "    mutation_type = \"random\"\n",
        "    mutation_percent_genes = 15\n",
        "\n",
        "    ga_instance = pygad.GA(num_generations=num_generations,\n",
        "                            num_parents_mating=num_parents_mating,\n",
        "                            fitness_func=fitness_function,\n",
        "                            sol_per_pop=sol_per_pop,\n",
        "                            num_genes=num_genes,\n",
        "                            init_range_low=init_range_low,\n",
        "                            init_range_high=init_range_high,\n",
        "                            parent_selection_type=parent_selection_type,\n",
        "                            keep_parents=keep_parents,\n",
        "                            crossover_type=crossover_type,\n",
        "                            mutation_type=mutation_type,\n",
        "                            mutation_percent_genes=mutation_percent_genes,\n",
        "                            gene_space=[{'low': 0, 'high': 1},{'low': 0, 'high': 3},\n",
        "                                        {'low': 0, 'high': 3},{'low': 0, 'high': 1},\n",
        "                                        [0,1], [0,1], [0,1], [0,1],\n",
        "                                        [0,1], [0,1], [0,1], [0,1]])\n",
        "\n",
        "    ga_instance.run()\n",
        "\n",
        "    ga_instance.plot_fitness()\n",
        "\n",
        "    solution, solution_fitness, solution_idx = ga_instance.best_solution()\n",
        "\n",
        "    #filename = 'genetic'\n",
        "    #ga_instance.save(filename=filename)\n",
        "\n",
        "    solution_param= np.array(solution)\n",
        "    df['calc_value']=df.apply(lambda row: abs(row[0]-solution_param[4]), axis = 1)\n",
        "    columns=len(df.columns)\n",
        "    j=0\n",
        "    i=5\n",
        "    while j < columns-6:\n",
        "        df['calc_value']=df.apply(lambda row: classification(row['calc_value'], abs(row[j+1] - solution_param[i]), solution_param[0], solution_param[1], solution_param[2], solution_param[3]),\n",
        "                                                        axis = 1)\n",
        "        i += 1\n",
        "        j += 1\n",
        "\n",
        "    merge_data = df\n",
        "    # merge_data.to_csv(\"data/output.csv\")\n",
        "    mean_error = (sum(merge_data['error'])) / len(merge_data)\n",
        "    kappa_result = solution_param[1]\n",
        "    lam_result = solution_param[2]\n",
        "    gamma_result = solution_param[3]\n",
        "    a_result = solution_param[0]\n",
        "    return merge_data, mean_error, kappa_result, lam_result, gamma_result, a_result, solution_param, solution_fitness, solution_idx\n",
        "\n"
      ],
      "metadata": {
        "id": "hiOJCQIxGIi-"
      },
      "execution_count": null,
      "outputs": []
    },
    {
      "cell_type": "code",
      "source": [
        "# Optimized and safe version\n",
        "import numpy as np\n",
        "import math\n",
        "import pygad\n",
        "import statistics\n",
        "import pandas as pd\n",
        "from sklearn.metrics import f1_score\n",
        "\n",
        "# ---- Ordinal Sums Functions ---- #\n",
        "def yes_function(x, y, a, kappa, lam, gamma=1):\n",
        "    return 1 - np.maximum(0.0, ((1-x)**kappa + (1-y)**kappa - (1-a)**kappa))**(1/kappa)\n",
        "\n",
        "def no_function(x, y, a, kappa, lam, gamma=1):\n",
        "    return np.maximum(0.0, (x**lam + y**lam - a**lam))**(1/lam)\n",
        "\n",
        "def maybe_function(x, y, a, kappa, lam, gamma=1):\n",
        "    if x is None or y is None:\n",
        "        return 0\n",
        "    if gamma == 0:\n",
        "        return 0\n",
        "    else:\n",
        "        value = gamma*(1/a)*x*y + (1-gamma)*(1 - (1/(1-a))*(1-x)*(1-y))\n",
        "    return statistics.median([0, 1, value])\n",
        "\n",
        "def classification(x, y, a, kappa, lam, gamma):\n",
        "    if x < a and y < a:\n",
        "        return no_function(x, y, a, 1, lam, 1)\n",
        "    elif x > a and y > a:\n",
        "        return yes_function(x, y, a, kappa, 1, 1)\n",
        "    else:\n",
        "        return maybe_function(x, y, a, 1, 1, gamma)\n",
        "\n",
        "# ---- Vectorized wrapper ---- #\n",
        "def classification_vec(values, diffs, a, kappa, lam, gamma):\n",
        "    if values.size == 0 or diffs.size == 0:\n",
        "        return np.zeros_like(values)\n",
        "\n",
        "    results = np.zeros_like(values)\n",
        "    mask_no = (values < a) & (diffs < a)\n",
        "    mask_yes = (values > a) & (diffs > a)\n",
        "    mask_maybe = ~(mask_no | mask_yes)\n",
        "\n",
        "    if np.any(mask_no):\n",
        "        results[mask_no] = no_function(values[mask_no], diffs[mask_no], a, 1, lam, 1)\n",
        "    if np.any(mask_yes):\n",
        "        results[mask_yes] = yes_function(values[mask_yes], diffs[mask_yes], a, kappa, 1, 1)\n",
        "    if np.any(mask_maybe):\n",
        "        for idx in np.where(mask_maybe)[0]:\n",
        "            results[idx] = maybe_function(values[idx], diffs[idx], a, 1, 1, gamma)\n",
        "\n",
        "    return np.round(results, 4)\n",
        "\n",
        "# ---- Genetic Algorithm ---- #\n",
        "def calculate_param_using_gen_alg(data: pd.DataFrame):\n",
        "    df = data.copy()\n",
        "    X = df.iloc[:, :-1].to_numpy()\n",
        "    y = df.iloc[:, -1].to_numpy()\n",
        "    n_features = X.shape[1]\n",
        "\n",
        "    def fitness_func(ga_instance, solution, solution_idx):\n",
        "        try:\n",
        "            param = np.array(solution, dtype=float)\n",
        "            value = np.abs(X[:, 0] - param[5])\n",
        "            i = 6\n",
        "            for j in range(n_features-1):\n",
        "                diff = np.abs(X[:, j+1] - param[i])\n",
        "                value = classification_vec(value, diff,\n",
        "                                           param[0], param[1], param[2], param[3])\n",
        "                i += 1\n",
        "\n",
        "            error = np.exp2(np.abs(value - y))\n",
        "            fitness1 = 1.0 / (math.sqrt(np.mean(error)) + 1e-8)  # avoid division by zero\n",
        "\n",
        "            calc_class = (value >= param[0]).astype(int)\n",
        "            target_class = (y >= param[0]).astype(int)\n",
        "            fitness2 = f1_score(target_class, calc_class)\n",
        "\n",
        "            if np.isnan(fitness1) or np.isnan(fitness2):\n",
        "                return 0\n",
        "\n",
        "            return param[4]*fitness1 + (1-param[4])*fitness2\n",
        "\n",
        "        except Exception as e:\n",
        "            print(f\"Fitness calculation failed: {e}\")\n",
        "            return 0\n",
        "\n",
        "    ga_instance = pygad.GA(\n",
        "        num_generations=60,\n",
        "        num_parents_mating=12,\n",
        "        fitness_func=fitness_func,\n",
        "        sol_per_pop=24,\n",
        "        num_genes=16,\n",
        "        init_range_low=0,\n",
        "        init_range_high=1,\n",
        "        parent_selection_type=\"tournament\",\n",
        "        K_tournament=3,\n",
        "        keep_parents=2,\n",
        "        crossover_type=\"single_point\",\n",
        "        mutation_type=\"random\",\n",
        "        mutation_percent_genes=15,\n",
        "        gene_space=[\n",
        "            {'low': 0.3, 'high': 0.7},   # a\n",
        "            {'low': 0, 'high': 3},       # kappa\n",
        "            {'low': 0, 'high': 3},       # lambda\n",
        "            {'low': 0, 'high': 1},       # gamma\n",
        "            {'low': 0, 'high': 1},       # fitness weight\n",
        "            *([[0,1]] * 11)               # binary params\n",
        "        ]\n",
        "    )\n",
        "\n",
        "    ga_instance.run()\n",
        "    solution, solution_fitness, solution_idx = ga_instance.best_solution()\n",
        "\n",
        "    best_params = np.array(solution, dtype=float)\n",
        "    value = np.abs(X[:, 0] - best_params[5])\n",
        "    i = 6\n",
        "    for j in range(n_features-1):\n",
        "        diff = np.abs(X[:, j+1] - best_params[i])\n",
        "        value = classification_vec(value, diff,\n",
        "                                   best_params[0], best_params[1], best_params[2], best_params[3])\n",
        "        i += 1\n",
        "\n",
        "    error = np.exp2(np.abs(value - y))\n",
        "    calc_class = (value >= best_params[0]).astype(int)\n",
        "    target_class = (y >= best_params[0]).astype(int)\n",
        "\n",
        "    df[\"calc_value\"] = value\n",
        "    df[\"error\"] = error\n",
        "    df[\"calc_value_class\"] = calc_class\n",
        "    df[\"target_class\"] = target_class\n",
        "\n",
        "    mean_error = np.mean(error)\n",
        "\n",
        "    return (\n",
        "        df,                # dataset with calc values\n",
        "        mean_error,\n",
        "        best_params[1],    # kappa\n",
        "        best_params[2],    # lambda\n",
        "        best_params[3],    # gamma\n",
        "        best_params[0],    # a\n",
        "        best_params,       # full parameter vector\n",
        "        solution_fitness,\n",
        "        solution_idx\n",
        "    )\n"
      ],
      "metadata": {
        "id": "RA3VSJjl1BvR"
      },
      "execution_count": 43,
      "outputs": []
    },
    {
      "cell_type": "code",
      "source": [
        "import warnings\n",
        "warnings.filterwarnings(\"ignore\")"
      ],
      "metadata": {
        "id": "MAxN2pNATcho"
      },
      "execution_count": 9,
      "outputs": []
    },
    {
      "cell_type": "code",
      "source": [
        "# Fuction to despay relevant results\n",
        "def show_results(data, mean_error, gamma_result, lam_result, kappa_result, a_result):\n",
        "    # calculate the mean squared error\n",
        "    target_values = data[['target']].values\n",
        "    value = data[['calc_value']].values\n",
        "    MSE = mean_squared_error(target_values, value)\n",
        "    RMSE = math.sqrt(MSE)\n",
        "    # print the results\n",
        "    print('Results:')\n",
        "    if all(col in data.columns for col in ['value','error']):\n",
        "      print(data.drop(columns=['value','error']))\n",
        "    else:\n",
        "      print(data)\n",
        "    #print('mean error: ', mean_error)\n",
        "    print('\\u03B3 = ', round(gamma_result, 4))\n",
        "    print('\\u03BB = ', round(lam_result, 4))\n",
        "    print('\\u03BA = ', round(kappa_result, 4))\n",
        "    print('a = ', round(a_result, 4))\n",
        "    print('Mean squared error = ', round(MSE, 4))\n",
        "    print('Root Mean Square Error = ', round(RMSE, 4))"
      ],
      "metadata": {
        "id": "rbEVi3IYGS96"
      },
      "execution_count": 10,
      "outputs": []
    },
    {
      "cell_type": "code",
      "source": [
        "def print_attr_coef(sol_param):\n",
        "  coeficients = []\n",
        "  for i in sol_param:\n",
        "    if i == 1:\n",
        "      pom = '1-decreasing'\n",
        "      coeficients.append(pom)\n",
        "    elif i == 0:\n",
        "      pom = '0-increasing'\n",
        "      coeficients.append(pom)\n",
        "\n",
        "  name_columns = data.drop(columns=['target']).columns\n",
        "\n",
        "  merge_list = name_columns + [': '] + coeficients\n",
        "  for list in merge_list:\n",
        "    print(list)"
      ],
      "metadata": {
        "id": "xTuGmi3p39gC"
      },
      "execution_count": 11,
      "outputs": []
    },
    {
      "cell_type": "code",
      "source": [
        "def view_chart(a, kappa, lam):\n",
        "    \"\"\" if df:\n",
        "        variables_for_plot = st.multiselect('Select 2 dependent variables for plot:', df.columns, max_selections=2)\n",
        "        if variables_for_plot:\n",
        "            df_for_plot = df[variables_for_plot]\n",
        "            x=df_for_plot.iloc[:, 0]\n",
        "            y=df_for_plot.iloc[:, 1]\n",
        "            plt.scatter(x,y) \"\"\"\n",
        "    plt.figure(figsize=(3, 3))\n",
        "    plt.subplot(111)\n",
        "    y = np.arange(0, 1, 0.05)\n",
        "    x = [a] * len(y)\n",
        "    plt.scatter(x, y, c = 'black', s = 1)\n",
        "\n",
        "    x = np.arange(0, 1, 0.05)\n",
        "    y = [a] * len(x)\n",
        "    plt.scatter(x, y, c = 'black', s = 1)\n",
        "\n",
        "    y1 = np.arange(a, 1.0, 0.001)\n",
        "    b=1\n",
        "    x1 = 1-((1-a)**kappa-(1-y1)**kappa)**(1/kappa)\n",
        "    plt.plot(x1, y1, c = 'red')\n",
        "    plt.fill_between(y1,x1, b, color='red')\n",
        "\n",
        "    y2 = np.arange(0, a, 0.01)\n",
        "    x2 = ((a**lam)-(y2**lam))**(1/lam)\n",
        "    plt.plot(y2, x2, c = 'green')\n",
        "    plt.fill_between(y2,x2,color='green')\n",
        "\n",
        "    # y3 = np.arange(a, 1.01, 0.01)\n",
        "    # x3 = 1-(((1-a)**kappa)-((1-y3)**kappa))**(1/kappa)\n",
        "    # z = np.min(b, x2)\n",
        "    # plt.fill_between(y3,x3,y2=0, color='blue')\n",
        "\n",
        "    plt.xlim(0,1)\n",
        "    plt.ylim(0,1)\n",
        "    plt.annotate('D', xy=(a, a), xytext=(a + 0.2, a + 0.2), fontsize=12)\n",
        "    plt.annotate('C', xy=(a, a), xytext=(a - 0.3, a - 0.3), fontsize=12)\n",
        "    plt.annotate('Avg', xy=(a, a), xytext=(a - 0.3, a + 0.2), fontsize=12)\n",
        "    plt.annotate('Avg', xy=(a, a), xytext=(a + 0.2, a - 0.3), fontsize=12)\n",
        "\n",
        "    plt.annotate('a', xy=(a, a), xytext=(a - 0.04, a - 0.63), fontsize=12)\n",
        "    plt.annotate('a', xy=(a, a), xytext=(a - 0.63, a - 0.04), fontsize=12)\n",
        "\n",
        "    return (plt)"
      ],
      "metadata": {
        "id": "nF9Ce5p5JUSY"
      },
      "execution_count": 12,
      "outputs": []
    },
    {
      "cell_type": "code",
      "source": [
        "data = pd.read_csv('/content/drive/MyDrive/Colab Notebooks/data/loan_data_train.csv', sep=',')"
      ],
      "metadata": {
        "id": "vpM69TgrapOi"
      },
      "execution_count": 44,
      "outputs": []
    },
    {
      "cell_type": "code",
      "source": [
        "data.describe()"
      ],
      "metadata": {
        "id": "_NoDXFUbbgos",
        "outputId": "23930d3b-c97e-473f-8d6a-040050bbe417",
        "colab": {
          "base_uri": "https://localhost:8080/",
          "height": 300
        }
      },
      "execution_count": 16,
      "outputs": [
        {
          "output_type": "execute_result",
          "data": {
            "text/plain": [
              "           Gender     Married  Dependents   Education  Self_Employed  \\\n",
              "count  491.000000  491.000000  491.000000  491.000000     491.000000   \n",
              "mean     0.193964    0.634728    0.248739    0.778004       0.143343   \n",
              "std      0.391085    0.481516    0.334350    0.416012       0.342225   \n",
              "min      0.000000    0.000000    0.000000    0.000000       0.000000   \n",
              "25%      0.000000    0.000000    0.000000    1.000000       0.000000   \n",
              "50%      0.000000    1.000000    0.000000    1.000000       0.000000   \n",
              "75%      0.000000    1.000000    0.333333    1.000000       0.000000   \n",
              "max      1.000000    1.000000    1.000000    1.000000       1.000000   \n",
              "\n",
              "       ApplicantIncome  CoapplicantIncome  LoanAmount  Loan_Amount_Term  \\\n",
              "count       491.000000         491.000000  491.000000        491.000000   \n",
              "mean          0.066205           0.040235    0.202094          0.701551   \n",
              "std           0.073382           0.076263    0.124857          0.142896   \n",
              "min           0.000000           0.000000    0.011577          0.000000   \n",
              "25%           0.034242           0.000000    0.135311          0.743590   \n",
              "50%           0.046382           0.027024    0.175109          0.743590   \n",
              "75%           0.071589           0.055992    0.225760          0.743590   \n",
              "max           1.000000           1.000000    1.000000          1.000000   \n",
              "\n",
              "       Credit_History  Property_Area      target  \n",
              "count      491.000000      491.00000  491.000000  \n",
              "mean         0.844578        0.51833    0.696538  \n",
              "std          0.347397        0.39080    0.460222  \n",
              "min          0.000000        0.00000    0.000000  \n",
              "25%          1.000000        0.00000    0.000000  \n",
              "50%          1.000000        0.50000    1.000000  \n",
              "75%          1.000000        1.00000    1.000000  \n",
              "max          1.000000        1.00000    1.000000  "
            ],
            "text/html": [
              "\n",
              "  <div id=\"df-0170515e-b649-4a8e-ac6b-7f0348a37ea4\" class=\"colab-df-container\">\n",
              "    <div>\n",
              "<style scoped>\n",
              "    .dataframe tbody tr th:only-of-type {\n",
              "        vertical-align: middle;\n",
              "    }\n",
              "\n",
              "    .dataframe tbody tr th {\n",
              "        vertical-align: top;\n",
              "    }\n",
              "\n",
              "    .dataframe thead th {\n",
              "        text-align: right;\n",
              "    }\n",
              "</style>\n",
              "<table border=\"1\" class=\"dataframe\">\n",
              "  <thead>\n",
              "    <tr style=\"text-align: right;\">\n",
              "      <th></th>\n",
              "      <th>Gender</th>\n",
              "      <th>Married</th>\n",
              "      <th>Dependents</th>\n",
              "      <th>Education</th>\n",
              "      <th>Self_Employed</th>\n",
              "      <th>ApplicantIncome</th>\n",
              "      <th>CoapplicantIncome</th>\n",
              "      <th>LoanAmount</th>\n",
              "      <th>Loan_Amount_Term</th>\n",
              "      <th>Credit_History</th>\n",
              "      <th>Property_Area</th>\n",
              "      <th>target</th>\n",
              "    </tr>\n",
              "  </thead>\n",
              "  <tbody>\n",
              "    <tr>\n",
              "      <th>count</th>\n",
              "      <td>491.000000</td>\n",
              "      <td>491.000000</td>\n",
              "      <td>491.000000</td>\n",
              "      <td>491.000000</td>\n",
              "      <td>491.000000</td>\n",
              "      <td>491.000000</td>\n",
              "      <td>491.000000</td>\n",
              "      <td>491.000000</td>\n",
              "      <td>491.000000</td>\n",
              "      <td>491.000000</td>\n",
              "      <td>491.00000</td>\n",
              "      <td>491.000000</td>\n",
              "    </tr>\n",
              "    <tr>\n",
              "      <th>mean</th>\n",
              "      <td>0.193964</td>\n",
              "      <td>0.634728</td>\n",
              "      <td>0.248739</td>\n",
              "      <td>0.778004</td>\n",
              "      <td>0.143343</td>\n",
              "      <td>0.066205</td>\n",
              "      <td>0.040235</td>\n",
              "      <td>0.202094</td>\n",
              "      <td>0.701551</td>\n",
              "      <td>0.844578</td>\n",
              "      <td>0.51833</td>\n",
              "      <td>0.696538</td>\n",
              "    </tr>\n",
              "    <tr>\n",
              "      <th>std</th>\n",
              "      <td>0.391085</td>\n",
              "      <td>0.481516</td>\n",
              "      <td>0.334350</td>\n",
              "      <td>0.416012</td>\n",
              "      <td>0.342225</td>\n",
              "      <td>0.073382</td>\n",
              "      <td>0.076263</td>\n",
              "      <td>0.124857</td>\n",
              "      <td>0.142896</td>\n",
              "      <td>0.347397</td>\n",
              "      <td>0.39080</td>\n",
              "      <td>0.460222</td>\n",
              "    </tr>\n",
              "    <tr>\n",
              "      <th>min</th>\n",
              "      <td>0.000000</td>\n",
              "      <td>0.000000</td>\n",
              "      <td>0.000000</td>\n",
              "      <td>0.000000</td>\n",
              "      <td>0.000000</td>\n",
              "      <td>0.000000</td>\n",
              "      <td>0.000000</td>\n",
              "      <td>0.011577</td>\n",
              "      <td>0.000000</td>\n",
              "      <td>0.000000</td>\n",
              "      <td>0.00000</td>\n",
              "      <td>0.000000</td>\n",
              "    </tr>\n",
              "    <tr>\n",
              "      <th>25%</th>\n",
              "      <td>0.000000</td>\n",
              "      <td>0.000000</td>\n",
              "      <td>0.000000</td>\n",
              "      <td>1.000000</td>\n",
              "      <td>0.000000</td>\n",
              "      <td>0.034242</td>\n",
              "      <td>0.000000</td>\n",
              "      <td>0.135311</td>\n",
              "      <td>0.743590</td>\n",
              "      <td>1.000000</td>\n",
              "      <td>0.00000</td>\n",
              "      <td>0.000000</td>\n",
              "    </tr>\n",
              "    <tr>\n",
              "      <th>50%</th>\n",
              "      <td>0.000000</td>\n",
              "      <td>1.000000</td>\n",
              "      <td>0.000000</td>\n",
              "      <td>1.000000</td>\n",
              "      <td>0.000000</td>\n",
              "      <td>0.046382</td>\n",
              "      <td>0.027024</td>\n",
              "      <td>0.175109</td>\n",
              "      <td>0.743590</td>\n",
              "      <td>1.000000</td>\n",
              "      <td>0.50000</td>\n",
              "      <td>1.000000</td>\n",
              "    </tr>\n",
              "    <tr>\n",
              "      <th>75%</th>\n",
              "      <td>0.000000</td>\n",
              "      <td>1.000000</td>\n",
              "      <td>0.333333</td>\n",
              "      <td>1.000000</td>\n",
              "      <td>0.000000</td>\n",
              "      <td>0.071589</td>\n",
              "      <td>0.055992</td>\n",
              "      <td>0.225760</td>\n",
              "      <td>0.743590</td>\n",
              "      <td>1.000000</td>\n",
              "      <td>1.00000</td>\n",
              "      <td>1.000000</td>\n",
              "    </tr>\n",
              "    <tr>\n",
              "      <th>max</th>\n",
              "      <td>1.000000</td>\n",
              "      <td>1.000000</td>\n",
              "      <td>1.000000</td>\n",
              "      <td>1.000000</td>\n",
              "      <td>1.000000</td>\n",
              "      <td>1.000000</td>\n",
              "      <td>1.000000</td>\n",
              "      <td>1.000000</td>\n",
              "      <td>1.000000</td>\n",
              "      <td>1.000000</td>\n",
              "      <td>1.00000</td>\n",
              "      <td>1.000000</td>\n",
              "    </tr>\n",
              "  </tbody>\n",
              "</table>\n",
              "</div>\n",
              "    <div class=\"colab-df-buttons\">\n",
              "\n",
              "  <div class=\"colab-df-container\">\n",
              "    <button class=\"colab-df-convert\" onclick=\"convertToInteractive('df-0170515e-b649-4a8e-ac6b-7f0348a37ea4')\"\n",
              "            title=\"Convert this dataframe to an interactive table.\"\n",
              "            style=\"display:none;\">\n",
              "\n",
              "  <svg xmlns=\"http://www.w3.org/2000/svg\" height=\"24px\" viewBox=\"0 -960 960 960\">\n",
              "    <path d=\"M120-120v-720h720v720H120Zm60-500h600v-160H180v160Zm220 220h160v-160H400v160Zm0 220h160v-160H400v160ZM180-400h160v-160H180v160Zm440 0h160v-160H620v160ZM180-180h160v-160H180v160Zm440 0h160v-160H620v160Z\"/>\n",
              "  </svg>\n",
              "    </button>\n",
              "\n",
              "  <style>\n",
              "    .colab-df-container {\n",
              "      display:flex;\n",
              "      gap: 12px;\n",
              "    }\n",
              "\n",
              "    .colab-df-convert {\n",
              "      background-color: #E8F0FE;\n",
              "      border: none;\n",
              "      border-radius: 50%;\n",
              "      cursor: pointer;\n",
              "      display: none;\n",
              "      fill: #1967D2;\n",
              "      height: 32px;\n",
              "      padding: 0 0 0 0;\n",
              "      width: 32px;\n",
              "    }\n",
              "\n",
              "    .colab-df-convert:hover {\n",
              "      background-color: #E2EBFA;\n",
              "      box-shadow: 0px 1px 2px rgba(60, 64, 67, 0.3), 0px 1px 3px 1px rgba(60, 64, 67, 0.15);\n",
              "      fill: #174EA6;\n",
              "    }\n",
              "\n",
              "    .colab-df-buttons div {\n",
              "      margin-bottom: 4px;\n",
              "    }\n",
              "\n",
              "    [theme=dark] .colab-df-convert {\n",
              "      background-color: #3B4455;\n",
              "      fill: #D2E3FC;\n",
              "    }\n",
              "\n",
              "    [theme=dark] .colab-df-convert:hover {\n",
              "      background-color: #434B5C;\n",
              "      box-shadow: 0px 1px 3px 1px rgba(0, 0, 0, 0.15);\n",
              "      filter: drop-shadow(0px 1px 2px rgba(0, 0, 0, 0.3));\n",
              "      fill: #FFFFFF;\n",
              "    }\n",
              "  </style>\n",
              "\n",
              "    <script>\n",
              "      const buttonEl =\n",
              "        document.querySelector('#df-0170515e-b649-4a8e-ac6b-7f0348a37ea4 button.colab-df-convert');\n",
              "      buttonEl.style.display =\n",
              "        google.colab.kernel.accessAllowed ? 'block' : 'none';\n",
              "\n",
              "      async function convertToInteractive(key) {\n",
              "        const element = document.querySelector('#df-0170515e-b649-4a8e-ac6b-7f0348a37ea4');\n",
              "        const dataTable =\n",
              "          await google.colab.kernel.invokeFunction('convertToInteractive',\n",
              "                                                    [key], {});\n",
              "        if (!dataTable) return;\n",
              "\n",
              "        const docLinkHtml = 'Like what you see? Visit the ' +\n",
              "          '<a target=\"_blank\" href=https://colab.research.google.com/notebooks/data_table.ipynb>data table notebook</a>'\n",
              "          + ' to learn more about interactive tables.';\n",
              "        element.innerHTML = '';\n",
              "        dataTable['output_type'] = 'display_data';\n",
              "        await google.colab.output.renderOutput(dataTable, element);\n",
              "        const docLink = document.createElement('div');\n",
              "        docLink.innerHTML = docLinkHtml;\n",
              "        element.appendChild(docLink);\n",
              "      }\n",
              "    </script>\n",
              "  </div>\n",
              "\n",
              "\n",
              "    <div id=\"df-aa1180ea-b756-447c-ab05-b57388092cc0\">\n",
              "      <button class=\"colab-df-quickchart\" onclick=\"quickchart('df-aa1180ea-b756-447c-ab05-b57388092cc0')\"\n",
              "                title=\"Suggest charts\"\n",
              "                style=\"display:none;\">\n",
              "\n",
              "<svg xmlns=\"http://www.w3.org/2000/svg\" height=\"24px\"viewBox=\"0 0 24 24\"\n",
              "     width=\"24px\">\n",
              "    <g>\n",
              "        <path d=\"M19 3H5c-1.1 0-2 .9-2 2v14c0 1.1.9 2 2 2h14c1.1 0 2-.9 2-2V5c0-1.1-.9-2-2-2zM9 17H7v-7h2v7zm4 0h-2V7h2v10zm4 0h-2v-4h2v4z\"/>\n",
              "    </g>\n",
              "</svg>\n",
              "      </button>\n",
              "\n",
              "<style>\n",
              "  .colab-df-quickchart {\n",
              "      --bg-color: #E8F0FE;\n",
              "      --fill-color: #1967D2;\n",
              "      --hover-bg-color: #E2EBFA;\n",
              "      --hover-fill-color: #174EA6;\n",
              "      --disabled-fill-color: #AAA;\n",
              "      --disabled-bg-color: #DDD;\n",
              "  }\n",
              "\n",
              "  [theme=dark] .colab-df-quickchart {\n",
              "      --bg-color: #3B4455;\n",
              "      --fill-color: #D2E3FC;\n",
              "      --hover-bg-color: #434B5C;\n",
              "      --hover-fill-color: #FFFFFF;\n",
              "      --disabled-bg-color: #3B4455;\n",
              "      --disabled-fill-color: #666;\n",
              "  }\n",
              "\n",
              "  .colab-df-quickchart {\n",
              "    background-color: var(--bg-color);\n",
              "    border: none;\n",
              "    border-radius: 50%;\n",
              "    cursor: pointer;\n",
              "    display: none;\n",
              "    fill: var(--fill-color);\n",
              "    height: 32px;\n",
              "    padding: 0;\n",
              "    width: 32px;\n",
              "  }\n",
              "\n",
              "  .colab-df-quickchart:hover {\n",
              "    background-color: var(--hover-bg-color);\n",
              "    box-shadow: 0 1px 2px rgba(60, 64, 67, 0.3), 0 1px 3px 1px rgba(60, 64, 67, 0.15);\n",
              "    fill: var(--button-hover-fill-color);\n",
              "  }\n",
              "\n",
              "  .colab-df-quickchart-complete:disabled,\n",
              "  .colab-df-quickchart-complete:disabled:hover {\n",
              "    background-color: var(--disabled-bg-color);\n",
              "    fill: var(--disabled-fill-color);\n",
              "    box-shadow: none;\n",
              "  }\n",
              "\n",
              "  .colab-df-spinner {\n",
              "    border: 2px solid var(--fill-color);\n",
              "    border-color: transparent;\n",
              "    border-bottom-color: var(--fill-color);\n",
              "    animation:\n",
              "      spin 1s steps(1) infinite;\n",
              "  }\n",
              "\n",
              "  @keyframes spin {\n",
              "    0% {\n",
              "      border-color: transparent;\n",
              "      border-bottom-color: var(--fill-color);\n",
              "      border-left-color: var(--fill-color);\n",
              "    }\n",
              "    20% {\n",
              "      border-color: transparent;\n",
              "      border-left-color: var(--fill-color);\n",
              "      border-top-color: var(--fill-color);\n",
              "    }\n",
              "    30% {\n",
              "      border-color: transparent;\n",
              "      border-left-color: var(--fill-color);\n",
              "      border-top-color: var(--fill-color);\n",
              "      border-right-color: var(--fill-color);\n",
              "    }\n",
              "    40% {\n",
              "      border-color: transparent;\n",
              "      border-right-color: var(--fill-color);\n",
              "      border-top-color: var(--fill-color);\n",
              "    }\n",
              "    60% {\n",
              "      border-color: transparent;\n",
              "      border-right-color: var(--fill-color);\n",
              "    }\n",
              "    80% {\n",
              "      border-color: transparent;\n",
              "      border-right-color: var(--fill-color);\n",
              "      border-bottom-color: var(--fill-color);\n",
              "    }\n",
              "    90% {\n",
              "      border-color: transparent;\n",
              "      border-bottom-color: var(--fill-color);\n",
              "    }\n",
              "  }\n",
              "</style>\n",
              "\n",
              "      <script>\n",
              "        async function quickchart(key) {\n",
              "          const quickchartButtonEl =\n",
              "            document.querySelector('#' + key + ' button');\n",
              "          quickchartButtonEl.disabled = true;  // To prevent multiple clicks.\n",
              "          quickchartButtonEl.classList.add('colab-df-spinner');\n",
              "          try {\n",
              "            const charts = await google.colab.kernel.invokeFunction(\n",
              "                'suggestCharts', [key], {});\n",
              "          } catch (error) {\n",
              "            console.error('Error during call to suggestCharts:', error);\n",
              "          }\n",
              "          quickchartButtonEl.classList.remove('colab-df-spinner');\n",
              "          quickchartButtonEl.classList.add('colab-df-quickchart-complete');\n",
              "        }\n",
              "        (() => {\n",
              "          let quickchartButtonEl =\n",
              "            document.querySelector('#df-aa1180ea-b756-447c-ab05-b57388092cc0 button');\n",
              "          quickchartButtonEl.style.display =\n",
              "            google.colab.kernel.accessAllowed ? 'block' : 'none';\n",
              "        })();\n",
              "      </script>\n",
              "    </div>\n",
              "\n",
              "    </div>\n",
              "  </div>\n"
            ],
            "application/vnd.google.colaboratory.intrinsic+json": {
              "type": "dataframe",
              "summary": "{\n  \"name\": \"data\",\n  \"rows\": 8,\n  \"fields\": [\n    {\n      \"column\": \"Gender\",\n      \"properties\": {\n        \"dtype\": \"number\",\n        \"std\": 173.5150000696703,\n        \"min\": 0.0,\n        \"max\": 491.0,\n        \"num_unique_values\": 5,\n        \"samples\": [\n          0.19396389587780039,\n          1.0,\n          0.3910852104953575\n        ],\n        \"semantic_type\": \"\",\n        \"description\": \"\"\n      }\n    },\n    {\n      \"column\": \"Married\",\n      \"properties\": {\n        \"dtype\": \"number\",\n        \"std\": 173.38731326450687,\n        \"min\": 0.0,\n        \"max\": 491.0,\n        \"num_unique_values\": 5,\n        \"samples\": [\n          0.6347278842403258,\n          1.0,\n          0.48151648691362164\n        ],\n        \"semantic_type\": \"\",\n        \"description\": \"\"\n      }\n    },\n    {\n      \"column\": \"Dependents\",\n      \"properties\": {\n        \"dtype\": \"number\",\n        \"std\": 173.49823375517056,\n        \"min\": 0.0,\n        \"max\": 491.0,\n        \"num_unique_values\": 6,\n        \"samples\": [\n          491.0,\n          0.24873884624439918,\n          1.0\n        ],\n        \"semantic_type\": \"\",\n        \"description\": \"\"\n      }\n    },\n    {\n      \"column\": \"Education\",\n      \"properties\": {\n        \"dtype\": \"number\",\n        \"std\": 173.33275826908093,\n        \"min\": 0.0,\n        \"max\": 491.0,\n        \"num_unique_values\": 5,\n        \"samples\": [\n          0.7780040733197556,\n          1.0,\n          0.416012274131754\n        ],\n        \"semantic_type\": \"\",\n        \"description\": \"\"\n      }\n    },\n    {\n      \"column\": \"Self_Employed\",\n      \"properties\": {\n        \"dtype\": \"number\",\n        \"std\": 173.5200208065539,\n        \"min\": 0.0,\n        \"max\": 491.0,\n        \"num_unique_values\": 5,\n        \"samples\": [\n          0.14334306171894093,\n          1.0,\n          0.34222480889297024\n        ],\n        \"semantic_type\": \"\",\n        \"description\": \"\"\n      }\n    },\n    {\n      \"column\": \"ApplicantIncome\",\n      \"properties\": {\n        \"dtype\": \"number\",\n        \"std\": 173.52978997918163,\n        \"min\": 0.0,\n        \"max\": 491.0,\n        \"num_unique_values\": 8,\n        \"samples\": [\n          0.06620464589613034,\n          0.046382189,\n          491.0\n        ],\n        \"semantic_type\": \"\",\n        \"description\": \"\"\n      }\n    },\n    {\n      \"column\": \"CoapplicantIncome\",\n      \"properties\": {\n        \"dtype\": \"number\",\n        \"std\": 173.5344618556394,\n        \"min\": 0.0,\n        \"max\": 491.0,\n        \"num_unique_values\": 7,\n        \"samples\": [\n          491.0,\n          0.04023540535437882,\n          0.055991552\n        ],\n        \"semantic_type\": \"\",\n        \"description\": \"\"\n      }\n    },\n    {\n      \"column\": \"LoanAmount\",\n      \"properties\": {\n        \"dtype\": \"number\",\n        \"std\": 173.50029718463165,\n        \"min\": 0.011577424,\n        \"max\": 491.0,\n        \"num_unique_values\": 8,\n        \"samples\": [\n          0.20209382349490837,\n          0.175108538,\n          491.0\n        ],\n        \"semantic_type\": \"\",\n        \"description\": \"\"\n      }\n    },\n    {\n      \"column\": \"Loan_Amount_Term\",\n      \"properties\": {\n        \"dtype\": \"number\",\n        \"std\": 173.38921440436945,\n        \"min\": 0.0,\n        \"max\": 491.0,\n        \"num_unique_values\": 6,\n        \"samples\": [\n          491.0,\n          0.7015509951608961,\n          1.0\n        ],\n        \"semantic_type\": \"\",\n        \"description\": \"\"\n      }\n    },\n    {\n      \"column\": \"Credit_History\",\n      \"properties\": {\n        \"dtype\": \"number\",\n        \"std\": 173.33288553278294,\n        \"min\": 0.0,\n        \"max\": 491.0,\n        \"num_unique_values\": 5,\n        \"samples\": [\n          0.8445782958859471,\n          1.0,\n          0.3473970309962136\n        ],\n        \"semantic_type\": \"\",\n        \"description\": \"\"\n      }\n    },\n    {\n      \"column\": \"Property_Area\",\n      \"properties\": {\n        \"dtype\": \"number\",\n        \"std\": 173.42294416232568,\n        \"min\": 0.0,\n        \"max\": 491.0,\n        \"num_unique_values\": 6,\n        \"samples\": [\n          491.0,\n          0.5183299389002036,\n          1.0\n        ],\n        \"semantic_type\": \"\",\n        \"description\": \"\"\n      }\n    },\n    {\n      \"column\": \"target\",\n      \"properties\": {\n        \"dtype\": \"number\",\n        \"std\": 173.38527284790482,\n        \"min\": 0.0,\n        \"max\": 491.0,\n        \"num_unique_values\": 5,\n        \"samples\": [\n          0.6965376782077393,\n          1.0,\n          0.46022202728007644\n        ],\n        \"semantic_type\": \"\",\n        \"description\": \"\"\n      }\n    }\n  ]\n}"
            }
          },
          "metadata": {},
          "execution_count": 16
        }
      ]
    },
    {
      "cell_type": "code",
      "source": [
        "# Grafical representation of distribution of attributes\n",
        "data.hist(figsize=(12, 10), bins=30, edgecolor=\"black\")\n",
        "plt.subplots_adjust(hspace=0.7, wspace=0.4)"
      ],
      "metadata": {
        "colab": {
          "base_uri": "https://localhost:8080/",
          "height": 853
        },
        "id": "6ZEAmAmoOlbF",
        "outputId": "7279da9a-65e4-4cdf-90ca-54523f20e667"
      },
      "execution_count": 17,
      "outputs": [
        {
          "output_type": "display_data",
          "data": {
            "text/plain": [
              "<Figure size 1200x1000 with 12 Axes>"
            ],
            "image/png": "[encoded data removed]"
          },
          "metadata": {}
        }
      ]
    },
    {
      "cell_type": "code",
      "source": [
        "df_train = data"
      ],
      "metadata": {
        "id": "2G8IsSJF3mVH"
      },
      "execution_count": 45,
      "outputs": []
    },
    {
      "cell_type": "code",
      "source": [
        "start_time = time.time()\n",
        "merge_data, mean_error, kappa_result, lam_result, gamma_result, a_result, sol_param, solution_fitness, solution_idx = calculate_param_using_gen_alg(df_train)\n",
        "\n",
        "show_results(merge_data, mean_error, gamma_result, lam_result, kappa_result, a_result)\n",
        "print_attr_coef(sol_param)\n",
        "print(\"wages: {w1}, {w2}\".format(w1=sol_param[4], w2=1-sol_param[4]))\n",
        "print(\"Parameters of the best solution : {solution_idx}\".format(solution_idx=solution_idx))\n",
        "print(\"Fitness value of the best solution = {solution_fitness}\".format(solution_fitness=solution_fitness))\n",
        "\n",
        "print('time:', (time.time()-start_time)/60)"
      ],
      "metadata": {
        "id": "ug1qGb8WJFUF",
        "colab": {
          "base_uri": "https://localhost:8080/"
        },
        "outputId": "c403af63-11c0-4d98-e3ea-bcc42c666795"
      },
      "execution_count": 46,
      "outputs": [
        {
          "output_type": "stream",
          "name": "stdout",
          "text": [
            "Results:\n",
            "     Gender   Married  Dependents  Education  Self_Employed  ApplicantIncome  \\\n",
            "0       0.0  1.000000    0.000000          1            0.0         0.072356   \n",
            "1       0.0  1.000000    0.000000          1            0.0         0.034731   \n",
            "2       0.0  1.000000    0.666667          1            0.0         0.075448   \n",
            "3       0.0  1.000000    0.000000          1            0.0         0.023908   \n",
            "4       0.0  0.000000    0.000000          1            0.0         0.049672   \n",
            "..      ...       ...         ...        ...            ...              ...   \n",
            "486     0.0  1.000000    0.666667          0            1.0         0.021336   \n",
            "487     0.0  1.000000    0.666667          1            0.0         0.139357   \n",
            "488     1.0  0.000000    0.000000          1            0.0         0.038182   \n",
            "489     1.0  0.651391    0.254313          1            0.0         0.122412   \n",
            "490     0.0  1.000000    0.254313          1            0.0         0.166976   \n",
            "\n",
            "     CoapplicantIncome  LoanAmount  Loan_Amount_Term  Credit_History  \\\n",
            "0             0.054000    0.370478          0.743590        0.842199   \n",
            "1             0.069599    0.176556          0.743590        1.000000   \n",
            "2             0.040680    0.290883          0.743590        1.000000   \n",
            "3             0.075599    0.172214          0.743590        1.000000   \n",
            "4             0.000000    0.128799          0.743590        0.000000   \n",
            "..                 ...         ...               ...             ...   \n",
            "486           0.045000    0.127352          0.743590        1.000000   \n",
            "487           0.027024    0.312590          0.743590        1.000000   \n",
            "488           0.000000    0.030391          0.743590        1.000000   \n",
            "489           0.000000    0.198860          0.487179        1.000000   \n",
            "490           0.000000    0.198860          0.743590        1.000000   \n",
            "\n",
            "     Property_Area  target  calc_value     error  calc_value_class  \\\n",
            "0              0.5       0      0.9678  1.955856                 1   \n",
            "1              0.5       1      0.9678  1.022570                 1   \n",
            "2              0.5       1      0.9678  1.022570                 1   \n",
            "3              0.5       1      0.9678  1.022570                 1   \n",
            "4              0.5       0      0.0000  1.000000                 0   \n",
            "..             ...     ...         ...       ...               ...   \n",
            "486            0.5       1      0.9678  1.022570                 1   \n",
            "487            1.0       1      0.8227  1.130766                 1   \n",
            "488            1.0       1      0.8227  1.130766                 1   \n",
            "489            0.5       1      0.9678  1.022570                 1   \n",
            "490            1.0       1      0.8227  1.130766                 1   \n",
            "\n",
            "     target_class  \n",
            "0               0  \n",
            "1               1  \n",
            "2               1  \n",
            "3               1  \n",
            "4               0  \n",
            "..            ...  \n",
            "486             1  \n",
            "487             1  \n",
            "488             1  \n",
            "489             1  \n",
            "490             1  \n",
            "\n",
            "[491 rows x 16 columns]\n",
            "γ =  0.1773\n",
            "λ =  2.6109\n",
            "κ =  1.2424\n",
            "a =  0.611\n",
            "Mean squared error =  0.1947\n",
            "Root Mean Square Error =  0.4412\n",
            "Gender: 1-decreasing\n",
            "Married: 0-increasing\n",
            "Dependents: 1-decreasing\n",
            "Education: 1-decreasing\n",
            "Self_Employed: 0-increasing\n",
            "ApplicantIncome: 1-decreasing\n",
            "CoapplicantIncome: 1-decreasing\n",
            "LoanAmount: 0-increasing\n",
            "Loan_Amount_Term: 1-decreasing\n",
            "Credit_History: 0-increasing\n",
            "Property_Area: 1-decreasing\n",
            "wages: 0.9500418457681762, 0.049958154231823815\n",
            "Parameters of the best solution : 0\n",
            "Fitness value of the best solution = 0.8987803538543369\n",
            "time: 0.26803355614344276\n"
          ]
        }
      ]
    },
    {
      "cell_type": "code",
      "source": [
        "def calculate_tests(target_values, value):\n",
        "  print('Accuracy score = ', accuracy_score(target_values, value))\n",
        "  print('F1 = ', f1_score(target_values, value, average= 'macro'))\n",
        "  print('Precision = ', precision_score(target_values, value, average= 'macro'))\n",
        "  print('Recall = ', recall_score(target_values, value, average= 'macro'))\n",
        "  #confusion matrix\n",
        "  confusion_matrix = metrics.confusion_matrix(target_values, value)\n",
        "  cm_display = metrics.ConfusionMatrixDisplay(confusion_matrix = confusion_matrix, display_labels = [0, 1])\n",
        "  cm_display.plot()\n",
        "  plt.show()"
      ],
      "metadata": {
        "id": "JFhRoU7J354H"
      },
      "execution_count": null,
      "outputs": []
    },
    {
      "cell_type": "code",
      "source": [
        "# tests for train dataset: testing_df\n",
        "calculate_tests(merge_data[[\"calc_value_class\"]].values, merge_data[['target_class']].values)"
      ],
      "metadata": {
        "colab": {
          "base_uri": "https://localhost:8080/",
          "height": 518
        },
        "id": "PMOHL1xL-Sz4",
        "outputId": "353397f7-aabc-476e-ab38-b0ddc04b4861"
      },
      "execution_count": 47,
      "outputs": [
        {
          "output_type": "stream",
          "name": "stdout",
          "text": [
            "Accuracy score =  0.7841140529531568\n",
            "F1 =  0.6672250639386189\n",
            "Precision =  0.6518701675889949\n",
            "Recall =  0.8448752228163993\n"
          ]
        },
        {
          "output_type": "display_data",
          "data": {
            "text/plain": [
              "<Figure size 640x480 with 2 Axes>"
            ],
            "image/png": "[encoded data removed]"
          },
          "metadata": {}
        }
      ]
    },
    {
      "cell_type": "code",
      "source": [
        "# df = pd.DataFrame()\n",
        "# chart = view_chart(df, 0.2305, 0.8658, 3.7278, 0.9559)\n",
        "# chart = view_chart(0.5,1,1)\n",
        "\n",
        "chart = view_chart(a_result, lam_result, kappa_result)\n",
        "chart.show()"
      ],
      "metadata": {
        "colab": {
          "base_uri": "https://localhost:8080/",
          "height": 297
        },
        "id": "-BDOf3diJfL4",
        "outputId": "4e56e667-a9de-42e0-d62c-3b403181669c"
      },
      "execution_count": 48,
      "outputs": [
        {
          "output_type": "display_data",
          "data": {
            "text/plain": [
              "<Figure size 300x300 with 1 Axes>"
            ],
            "image/png": "[encoded data removed]"
          },
          "metadata": {}
        }
      ]
    },
    {
      "cell_type": "code",
      "source": [
        "#to know -2 or -5 in loop - remove additional columns\n",
        "df_test = pd.read_csv('/content/drive/MyDrive/Colab Notebooks/data/loan_data_test.csv', sep=',')"
      ],
      "metadata": {
        "id": "9gI032_OtiMX"
      },
      "execution_count": 49,
      "outputs": []
    },
    {
      "cell_type": "code",
      "source": [
        "# Calculate ordinal sums on test dataset\n",
        "columns=len(df_test.columns)\n",
        "df_test['calc_value']=df_test.apply(lambda row: abs(sol_param[5]-row[0]), axis =1)\n",
        "# parameters for attributes\n",
        "i=6\n",
        "j=0\n",
        "while j < columns-2:\n",
        "  df_test['calc_value']=df_test.apply(lambda row: classification(row['calc_value'], abs(row[j+1]-sol_param[i]), sol_param[0], sol_param[1], sol_param[2], sol_param[3]), axis = 1)\n",
        "  i += 1\n",
        "  j += 1\n",
        "show_results(df_test, 0, 0, 0, 0, 0)"
      ],
      "metadata": {
        "colab": {
          "base_uri": "https://localhost:8080/"
        },
        "id": "YC6nNHxJiWy6",
        "outputId": "d78b0828-baa3-49c7-ef04-86743dceeb91"
      },
      "execution_count": 50,
      "outputs": [
        {
          "output_type": "stream",
          "name": "stdout",
          "text": [
            "Results:\n",
            "     Gender  Married  Dependents  Education  Self_Employed  ApplicantIncome  \\\n",
            "0       0.0      1.0    0.000000          1       0.000000         0.110489   \n",
            "1       0.0      1.0    0.000000          1       0.000000         0.051453   \n",
            "2       0.0      1.0    0.666667          1       0.000000         0.049685   \n",
            "3       1.0      0.0    0.000000          1       0.000000         0.034014   \n",
            "4       0.0      0.0    0.000000          1       0.000000         0.031763   \n",
            "..      ...      ...         ...        ...            ...              ...   \n",
            "118     0.0      1.0    0.000000          1       0.140893         0.044106   \n",
            "119     1.0      0.0    0.000000          1       0.000000         0.029153   \n",
            "120     0.0      1.0    0.333333          1       0.000000         0.033791   \n",
            "121     0.0      1.0    0.666667          1       0.140893         0.029066   \n",
            "122     0.0      1.0    0.000000          1       0.140893         0.781534   \n",
            "\n",
            "     CoapplicantIncome  LoanAmount  Loan_Amount_Term  Credit_History  \\\n",
            "0             0.000000    0.316932          0.743590        1.000000   \n",
            "1             0.000000    0.175109          0.743590        0.842199   \n",
            "2             0.034728    0.215630          0.743590        1.000000   \n",
            "3             0.000000    0.089725          0.743590        1.000000   \n",
            "4             0.000000    0.088278          0.743590        1.000000   \n",
            "..                 ...         ...               ...             ...   \n",
            "118           0.000000    0.047757          0.358974        1.000000   \n",
            "119           0.000000    0.068017          0.743590        1.000000   \n",
            "120           0.044232    0.164978          1.000000        1.000000   \n",
            "121           0.044160    0.144718          0.743590        1.000000   \n",
            "122           0.000000    0.696093          0.358974        1.000000   \n",
            "\n",
            "     Property_Area  target  calc_value  \n",
            "0              0.5       1    0.967792  \n",
            "1              0.5       1    0.904168  \n",
            "2              0.0       1    1.000000  \n",
            "3              0.0       1    1.000000  \n",
            "4              0.5       1    0.967792  \n",
            "..             ...     ...         ...  \n",
            "118            0.0       1    1.000000  \n",
            "119            0.0       1    1.000000  \n",
            "120            0.5       1    0.946146  \n",
            "121            1.0       1    0.822677  \n",
            "122            1.0       1    0.822677  \n",
            "\n",
            "[123 rows x 13 columns]\n",
            "γ =  0\n",
            "λ =  0\n",
            "κ =  0\n",
            "a =  0\n",
            "Mean squared error =  0.2298\n",
            "Root Mean Square Error =  0.4794\n"
          ]
        }
      ]
    },
    {
      "cell_type": "code",
      "source": [
        "print(classification(0.9625702184044478  ,1, sol_param[0], sol_param[1], sol_param[2], sol_param[3]))"
      ],
      "metadata": {
        "id": "ue2e-UwhdeHs",
        "outputId": "852c6a2e-5ecb-49e5-d648-598bfbf036fd",
        "colab": {
          "base_uri": "https://localhost:8080/"
        }
      },
      "execution_count": null,
      "outputs": [
        {
          "output_type": "stream",
          "name": "stdout",
          "text": [
            "1.0\n"
          ]
        }
      ]
    },
    {
      "cell_type": "code",
      "source": [
        "df_test['calc_value_class'] = df_test.apply(lambda row: 0 if (row['calc_value']<a_result) else 1, axis=1)"
      ],
      "metadata": {
        "id": "XpX6PdO5kFmc"
      },
      "execution_count": 51,
      "outputs": []
    },
    {
      "cell_type": "code",
      "source": [
        "#prepare test data for tests\n",
        "target_values = df_test[['target']].values\n",
        "value = df_test[['calc_value_class']].values"
      ],
      "metadata": {
        "id": "cH_I4ddtoSed"
      },
      "execution_count": 52,
      "outputs": []
    },
    {
      "cell_type": "code",
      "source": [
        "# tests for test dataset:\n",
        "calculate_tests(target_values, value)"
      ],
      "metadata": {
        "colab": {
          "base_uri": "https://localhost:8080/",
          "height": 518
        },
        "id": "9G85KAqVoS3q",
        "outputId": "ac9ab4c9-a98a-4d12-d694-234e5c87cf4d"
      },
      "execution_count": 53,
      "outputs": [
        {
          "output_type": "stream",
          "name": "stdout",
          "text": [
            "Accuracy score =  0.7317073170731707\n",
            "F1 =  0.6136125654450262\n",
            "Precision =  0.8141891891891891\n",
            "Recall =  0.6216569767441861\n"
          ]
        },
        {
          "output_type": "display_data",
          "data": {
            "text/plain": [
              "<Figure size 640x480 with 2 Axes>"
            ],
            "image/png": "[encoded data removed]"
          },
          "metadata": {}
        }
      ]
    },
    {
      "cell_type": "code",
      "source": [
        "merge_data.to_csv('/content/drive/MyDrive/Colab Notebooks/os_final_output.csv')"
      ],
      "metadata": {
        "id": "YEhHwFAVMag-"
      },
      "execution_count": null,
      "outputs": []
    },
    {
      "cell_type": "code",
      "source": [
        "df_test.to_csv('/content/drive/MyDrive/Colab Notebooks/os_final_output_test.csv')"
      ],
      "metadata": {
        "id": "IRzcSaT5Mkuu"
      },
      "execution_count": null,
      "outputs": []
    }
  ]
}